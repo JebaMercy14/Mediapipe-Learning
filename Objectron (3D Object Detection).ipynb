{
 "cells": [
  {
   "cell_type": "code",
   "execution_count": 1,
   "id": "ec1f0c87",
   "metadata": {},
   "outputs": [],
   "source": [
    "import cv2\n",
    "import mediapipe as mp\n",
    "mp_drawing = mp.solutions.drawing_utils\n",
    "mp_objectron = mp.solutions.objectron"
   ]
  },
  {
   "cell_type": "code",
   "execution_count": 2,
   "id": "b2facd82",
   "metadata": {},
   "outputs": [],
   "source": [
    "# For static images:\n",
    "IMAGE_FILES = []\n",
    "with mp_objectron.Objectron(static_image_mode=True,\n",
    "                            max_num_objects=5,\n",
    "                            min_detection_confidence=0.5,\n",
    "                            model_name='Shoe') as objectron:\n",
    "  for idx, file in enumerate(IMAGE_FILES):\n",
    "    image = cv2.imread(file)\n",
    "    # Convert the BGR image to RGB and process it with MediaPipe Objectron.\n",
    "    results = objectron.process(cv2.cvtColor(image, cv2.COLOR_BGR2RGB))\n",
    "\n",
    "    # Draw box landmarks.\n",
    "    if not results.detected_objects:\n",
    "      print(f'No box landmarks detected on {file}')\n",
    "      continue\n",
    "    print(f'Box landmarks of {file}:')\n",
    "    annotated_image = image.copy()\n",
    "    for detected_object in results.detected_objects:\n",
    "      mp_drawing.draw_landmarks(\n",
    "          annotated_image, detected_object.landmarks_2d, mp_objectron.BOX_CONNECTIONS)\n",
    "      mp_drawing.draw_axis(annotated_image, detected_object.rotation,\n",
    "                           detected_object.translation)\n",
    "      cv2.imwrite('/tmp/annotated_image' + str(idx) + '.png', annotated_image)\n"
   ]
  },
  {
   "cell_type": "code",
   "execution_count": null,
   "id": "8b4c8f2a",
   "metadata": {},
   "outputs": [],
   "source": [
    "# For webcam input:\n",
    "cap = cv2.VideoCapture(0)\n",
    "with mp_objectron.Objectron(static_image_mode=False,\n",
    "                            max_num_objects=5,\n",
    "                            min_detection_confidence=0.5,\n",
    "                            min_tracking_confidence=0.99,\n",
    "                            model_name='Shoe') as objectron:\n",
    "  while cap.isOpened():\n",
    "    success, image = cap.read()\n",
    "    if not success:\n",
    "      print(\"Ignoring empty camera frame.\")\n",
    "      # If loading a video, use 'break' instead of 'continue'.\n",
    "      continue\n",
    "\n",
    "    # To improve performance, optionally mark the image as not writeable to\n",
    "    # pass by reference.\n",
    "    image.flags.writeable = False\n",
    "    image = cv2.cvtColor(image, cv2.COLOR_BGR2RGB)\n",
    "    results = objectron.process(image)\n",
    "\n",
    "    # Draw the box landmarks on the image.\n",
    "    image.flags.writeable = True\n",
    "    image = cv2.cvtColor(image, cv2.COLOR_RGB2BGR)\n",
    "    if results.detected_objects:\n",
    "        for detected_object in results.detected_objects:\n",
    "            mp_drawing.draw_landmarks(\n",
    "              image, detected_object.landmarks_2d, mp_objectron.BOX_CONNECTIONS)\n",
    "            mp_drawing.draw_axis(image, detected_object.rotation,\n",
    "                                 detected_object.translation)\n",
    "    # Flip the image horizontally for a selfie-view display.\n",
    "    cv2.imshow('MediaPipe Objectron', cv2.flip(image, 1))\n",
    "    if cv2.waitKey(5) & 0xFF == 27:\n",
    "      break\n",
    "cap.release()"
   ]
  },
  {
   "cell_type": "code",
   "execution_count": null,
   "id": "cb66ff05",
   "metadata": {},
   "outputs": [],
   "source": []
  }
 ],
 "metadata": {
  "kernelspec": {
   "display_name": "Python 3",
   "language": "python",
   "name": "python3"
  },
  "language_info": {
   "codemirror_mode": {
    "name": "ipython",
    "version": 3
   },
   "file_extension": ".py",
   "mimetype": "text/x-python",
   "name": "python",
   "nbconvert_exporter": "python",
   "pygments_lexer": "ipython3",
   "version": "3.11.0 (main, Oct 24 2022, 18:26:48) [MSC v.1933 64 bit (AMD64)]"
  },
  "vscode": {
   "interpreter": {
    "hash": "c261aea317cc0286b3b3261fbba9abdec21eaa57589985bb7a274bf54d6cc0a7"
   }
  }
 },
 "nbformat": 4,
 "nbformat_minor": 5
}
